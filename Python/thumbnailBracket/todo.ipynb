{
 "metadata": {
  "language_info": {
   "codemirror_mode": {
    "name": "ipython",
    "version": 3
   },
   "file_extension": ".py",
   "mimetype": "text/x-python",
   "name": "python",
   "nbconvert_exporter": "python",
   "pygments_lexer": "ipython3",
   "version": 3
  },
  "orig_nbformat": 4
 },
 "nbformat": 4,
 "nbformat_minor": 2,
 "cells": [
  {
   "source": [
    "# TODO \n",
    "- elo rankings with the win/lose\n",
    "- https://github.com/ddm7018/Elo\n",
    "- write django admin custom management command to build/rebuild database, etc\n",
    "   - https://docs.djangoproject.com/en/2.2/howto/custom-management-commands/#django.core.management.BaseCommand.handle\n",
    "- have an info page where I talk about why i built this website and how I did it, architecture and all\n",
    "- proper wsgi interface and webserver\n",
    "- domain and ports\n",
    "- put more video metadata on vote screen\n",
    "   - have the vtts and transcripts in there, possibly linked\n",
    "- basic logging \n",
    "- overview screen\n",
    "   - log with recent activity\n",
    "   - ranking/leaderboard\n",
    "- analysis dashboard - thumbnail quality graphed over time\n",
    "- allow using arrow keys to submit on left/right\n"
   ],
   "cell_type": "markdown",
   "metadata": {}
  },
  {
   "cell_type": "code",
   "execution_count": null,
   "metadata": {},
   "outputs": [],
   "source": []
  }
 ]
}