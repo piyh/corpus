{
 "metadata": {
  "language_info": {
   "codemirror_mode": {
    "name": "ipython",
    "version": 3
   },
   "file_extension": ".py",
   "mimetype": "text/x-python",
   "name": "python",
   "nbconvert_exporter": "python",
   "pygments_lexer": "ipython3",
   "version": 3
  },
  "orig_nbformat": 4
 },
 "nbformat": 4,
 "nbformat_minor": 2,
 "cells": [
  {
   "source": [
    "# TODO \n",
    " - put more video metadata on vote screen\n",
    "    - json metadata\n",
    "    - each video needs to have the watch url or some way to get to youtube\n",
    "    - have the vtts and transcripts in there\n",
    " - set session cookies and basic logging in place\n",
    " - take a post request from the web form and log it to database\n",
    " - overview screen\n",
    "    - log with recent activity\n",
    "    - ranking/leaderboard\n",
    "- make the array of jsons pop so I don't get duplicates and everything gets voted on at least once\n",
    "    - reload from dir when the len jsonArray is < the number of choices rendered on a template\n",
    "- analysis dashboard - thumbnail quality graphed over time\n",
    "- allow using arrow keys to submit on left/right"
   ],
   "cell_type": "markdown",
   "metadata": {}
  },
  {
   "cell_type": "code",
   "execution_count": null,
   "metadata": {},
   "outputs": [],
   "source": []
  }
 ]
}