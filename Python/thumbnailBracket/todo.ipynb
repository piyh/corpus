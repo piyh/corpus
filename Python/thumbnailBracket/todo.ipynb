{
 "cells": [
  {
   "cell_type": "markdown",
   "metadata": {},
   "source": [
    "# TODO \r\n",
    "- upgrade to postgres\r\n",
    "- implment back button on vote screen\r\n",
    "   - https://developer.mozilla.org/en-US/docs/Web/API/History_API\r\n",
    "- vote table indexes on win and lose ytids\r\n",
    "- equal play algo for matchups   \r\n",
    "   - look for similar win ratio\r\n",
    "- write django admin custom management command to build/rebuild database, etc\r\n",
    "   - need to have metadata stored in database\r\n",
    "   - and maintain win ratios\r\n",
    "   - precalculated like ratios\r\n",
    "   - https://docs.djangoproject.com/en/2.2/howto/custom-management-commands/#django.core.management.BaseCommand.handle\r\n",
    "- have an info page where I talk about why i built this website and how I did it, architecture and all\r\n",
    "- proper wsgi interface and webserver\r\n",
    "- domain and ports\r\n",
    "\r\n",
    "- basic logging \r\n",
    "- overview screen\r\n",
    "   - log with recent activity\r\n",
    "   - ranking/leaderboard\r\n",
    "- analysis dashboard - thumbnail quality graphed over time\r\n",
    "- allow using arrow keys to submit on left/right\r\n",
    "- normalizing the votes allows me to assign ties\r\n",
    "    - vote event table\r\n",
    "    - results table, one rec for each participant\r\n",
    "- button to take you from the vote screen to the results scre\r\n",
    "- caching\r\n",
    "- vote screen flashes your last 3 winner/losers and allows you to see your vote history\r\n",
    "\r\n",
    "# super future enhancements\r\n",
    "- full test suite and CI\r\n",
    "- load testing\r\n",
    "- async rewrite io bound stuff\r\n",
    "- tagging system\r\n",
    "- user comments\r\n",
    "- read only linking to votes\r\n",
    "- put more video metadata on vote screen\r\n",
    "- elo rankings with the win/lose\r\n",
    "   - https://github.com/ddm7018/Elo\r\n",
    "\r\n",
    "   - have the vtts and transcripts in there, possibly linked\r\n",
    "- complete database remodel\r\n",
    "- glicko2\r\n",
    "- add ytmeta model to have glicko2 rating foreign key\r\n"
   ]
  },
  {
   "cell_type": "code",
   "execution_count": null,
   "metadata": {},
   "outputs": [],
   "source": []
  }
 ],
 "metadata": {
  "interpreter": {
   "hash": "4d169e413c92ad60343a7cad25cff5ee29e59b7f95e85b5ec5d61586091a0e96"
  },
  "kernelspec": {
   "display_name": "Python 3.9.1 64-bit",
   "name": "python3"
  },
  "language_info": {
   "name": "python",
   "version": ""
  },
  "orig_nbformat": 4
 },
 "nbformat": 4,
 "nbformat_minor": 2
}