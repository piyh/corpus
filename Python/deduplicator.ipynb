{
 "cells": [
  {
   "cell_type": "markdown",
   "id": "48b96f57-6de8-42ad-b2e2-3fac25001bb2",
   "metadata": {
    "tags": []
   },
   "source": [
    "# THE GREAT FILE DE-DUPLICATOR\n",
    "### A solution to my fractured backups\n",
    "A program of 1000 lines begins with dependency imports\n"
   ]
  },
  {
   "cell_type": "code",
   "execution_count": 2,
   "id": "3a3dd947-fe45-4994-b5a2-da49210349c8",
   "metadata": {},
   "outputs": [
    {
     "name": "stdout",
     "output_type": "stream",
     "text": [
      "done\n"
     ]
    }
   ],
   "source": [
    "from pathlib import Path\n",
    "import threading\n",
    "import json\n",
    "from collections import defaultdict\n",
    "from pprint import pprint, pformat\n",
    "import time\n",
    "import logging\n",
    "print('done')"
   ]
  },
  {
   "cell_type": "markdown",
   "id": "ea97978f-baa3-4efe-9cd3-9021e6a3e295",
   "metadata": {},
   "source": [
    "### Enter your parameters\n",
    "Enter where you want to output your analysis files, what directories you want to analyze for duplicates and which folder names you wish to exclude from the analysis.\n",
    "Mind the backslashes playing nice with python on windows.\n",
    "\n",
    "**THE ORDER THE deDupeDirs ARE IN ARE THE PREFERRED ORDER FOR RETENTION IF DRY RUN IS DISABLED! MAKE SURE YOU ARE OK WITH LATER ENTRIES IN THE LIST HAVING DUPLICATE FILES DISABLED!**\n"
   ]
  },
  {
   "cell_type": "code",
   "execution_count": 41,
   "id": "e952a8d5-8bd0-48aa-9ffd-f59bb1353e70",
   "metadata": {},
   "outputs": [
    {
     "name": "stdout",
     "output_type": "stream",
     "text": [
      "('C:\\\\Users\\\\Ryan\\\\Desktop', 'G:\\\\', 'F:\\\\')\n"
     ]
    }
   ],
   "source": [
    "dedupeDirs = (r'C:\\Users\\Ryan\\Desktop',\n",
    "               #r'D:\\Users\\Ryan',\n",
    "               'G:\\\\',\n",
    "               'F:\\\\',\n",
    "               #'H:\\\\',\n",
    "               )\n",
    "excludeDirs = {'$RECYCLE.BIN',\n",
    "               'gdpr data',\n",
    "               'steamapps',\n",
    "               'Google Dump',\n",
    "              }\n",
    "excludeExtensions = {'.example',    \n",
    "}\n",
    "outputDir = Path(r'C:\\Users\\Ryan\\Desktop')\n",
    "\n",
    "#Assign file retention priority to dedupeDirs based on order\n",
    "#Early entries in the list will keep their files over later entries with duplicate files\n",
    "print(dedupeDirs)"
   ]
  },
  {
   "cell_type": "markdown",
   "id": "b2e79f80-50d1-4bc7-894d-655c624f0447",
   "metadata": {},
   "source": [
    "## Find duplicates based on file name\n",
    "For a given directory listed in \"deDupeDirs\", get the filenames, last modified dates, and file size. \n",
    "End result of a list will be a dict with filename as keys and values that are lists of dicts of file paths and attributes"
   ]
  },
  {
   "cell_type": "code",
   "execution_count": 29,
   "id": "658c21d6-1711-4f63-b196-f7084dd4c9da",
   "metadata": {},
   "outputs": [
    {
     "name": "stdout",
     "output_type": "stream",
     "text": [
      "running in C:\\Users\\Ryan\\Desktop\n",
      "len of files parsed =  41526\n",
      "processed C:\\Users\\Ryan\\Desktop in 19.35436749458313s\n",
      "running in G:\\\n",
      "len of files parsed =  43234\n",
      "processed G:\\ in 5.20017409324646s\n",
      "running in F:\\\n",
      "len of files parsed =  46681\n",
      "processed F:\\ in 21.063753128051758s\n",
      "number of uniques =  27750\n",
      "number of dupes =  18931\n",
      "dict load completed in 45.64630079269409s\n"
     ]
    }
   ],
   "source": [
    "dupeSearchStart = time.time()\n",
    "dedupePaths = [Path(x) for x in dedupeDirs]\n",
    "\n",
    "nameSet = set()\n",
    "files = []\n",
    "dupeDict = defaultdict(list)\n",
    "for wd in dedupePaths:\n",
    "    print(f'running in {wd}')\n",
    "    dirDupeSearchStart = time.time()\n",
    "    for file in wd.glob('**/*'):\n",
    "        if file.is_file() and not excludeDirs.intersection(set(file.parts)) and not excludeExtensions.intersection(set(file.suffixes)):\n",
    "            fileDict = {#'name':file.name,\n",
    "                        'path':file.as_posix(),\n",
    "                        'size':file.stat().st_size,\n",
    "                        'mtime':file.stat().st_mtime,\n",
    "                        }\n",
    "            try:\n",
    "                dupeDict[file.name].append(fileDict)\n",
    "            except:\n",
    "                logging.exception(f\"couldn't add this filedict, continuing \\n {fileDict}\")\n",
    "                raise\n",
    "    print('len of files parsed = ', len(dupeDict))\n",
    "    print(f'processed {wd} in {time.time() - dirDupeSearchStart}s')\n",
    "\n",
    "uniqueDict = {k:v for k,v in dupeDict.items() if len(v) == 1}\n",
    "print('number of uniques = ', len(uniqueDict))\n",
    "dupeDict   = {k:v for k,v in dupeDict.items() if len(v) > 1}\n",
    "print('number of dupes = ', len(dupeDict))\n",
    "print(f'dict load completed in {time.time() - dupeSearchStart}s')"
   ]
  },
  {
   "cell_type": "markdown",
   "id": "862e3d85-44b9-46be-9899-c6d5619f8bd9",
   "metadata": {},
   "source": [
    "### Save your progress\n",
    "The above steps could take a while depending on how much you've hoarded, save the output to a JSON file to noodle with at a later date"
   ]
  },
  {
   "cell_type": "code",
   "execution_count": 30,
   "id": "4ed87fd8-098b-47f3-90d3-2c6122b02535",
   "metadata": {},
   "outputs": [
    {
     "name": "stdout",
     "output_type": "stream",
     "text": [
      "writing to file\n",
      "done, took 1.1922683715820312s\n"
     ]
    }
   ],
   "source": [
    "writingStart = time.time()\n",
    "print('writing to file')    \n",
    "with open(outputDir.joinpath('duplicateFiles.json'),'w',encoding='utf8') as f:\n",
    "    json.dump(dupeDict, f, indent = 1 )\n",
    "    \n",
    "with open(outputDir.joinpath('uniqueFiles.json'),'w',encoding='utf8') as f:\n",
    "    json.dump(uniqueDict, f, indent = 1 )\n",
    "print(f'done, took {time.time() - writingStart}s')\n"
   ]
  },
  {
   "cell_type": "markdown",
   "id": "9d6ef5e7-b5a4-4932-b8cf-17c4d9f3f553",
   "metadata": {},
   "source": [
    "### Reload your progress\n",
    "Reload if you saved to a JSON file."
   ]
  },
  {
   "cell_type": "code",
   "execution_count": 31,
   "id": "4fe08d08-a76c-4bf3-a8ed-8779560dfe6d",
   "metadata": {},
   "outputs": [
    {
     "name": "stdout",
     "output_type": "stream",
     "text": [
      "loading from file\n",
      "done, took 0.2160499095916748s\n"
     ]
    }
   ],
   "source": [
    "loadStart = time.time()\n",
    "print('loading from file')    \n",
    "with open(outputDir.joinpath('duplicateFiles.json'),'r',encoding='utf8') as f:\n",
    "    dupeDict = json.load(f)\n",
    "    \n",
    "with open(outputDir.joinpath('uniqueFiles.json'),'r',encoding='utf8') as f:\n",
    "    uniqueDict = json.load(f)\n",
    "print(f'done, took {time.time() - loadStart}s')"
   ]
  },
  {
   "cell_type": "markdown",
   "id": "39bbff30-ad4d-4402-898e-4db707af568a",
   "metadata": {},
   "source": [
    "### start by figuring out duplication categories\n",
    " - same name, same size, same mtime, same hash different dedupeDirs\n",
    "     - can safely delete one of them based on priority\n",
    " - same name, same size, different mtime\n",
    "     - hash and branch logic if different\n",
    " - same name, different size \n",
    "     - send to manual review queue, potentially prefer the newer one"
   ]
  },
  {
   "cell_type": "code",
   "execution_count": 42,
   "id": "0408a6ae-79b4-4430-a62b-907d889e4b20",
   "metadata": {},
   "outputs": [
    {
     "name": "stdout",
     "output_type": "stream",
     "text": [
      "[{'path': 'C:/Users/Ryan/Desktop/desktop.ini', 'size': 282, 'mtime': 1607128670.8325891, 'priority': 0}, {'path': 'C:/Users/Ryan/Desktop/Files/Home and Money/Tax/2015 Tax/desktop.ini', 'size': 136, 'mtime': 1538450652.6097116, 'priority': 0}, {'path': 'C:/Users/Ryan/Desktop/Files/Music/desktop.ini', 'size': 440, 'mtime': 1577863147.0110621, 'priority': 0}, {'path': 'C:/Users/Ryan/Desktop/Files/photos/Old Photos/Trivia Pics/desktop.ini', 'size': 136, 'mtime': 1538450652.605711, 'priority': 0}, {'path': 'C:/Users/Ryan/Desktop/Files/Work/work git/SQL/desktop.ini', 'size': 110, 'mtime': 1616551386.9991388, 'priority': 0}, {'path': 'G:/Home and Money/Tax/2015 Tax/desktop.ini', 'size': 136, 'mtime': 1538450652.6097116, 'priority': 1}, {'path': 'G:/Music/desktop.ini', 'size': 440, 'mtime': 1587357803.6098547, 'priority': 1}, {'path': 'G:/photos/Old Photos/Trivia Pics/desktop.ini', 'size': 136, 'mtime': 1538450652.605711, 'priority': 1}, {'path': 'F:/Files/Home and Money/Tax/2015 Tax/desktop.ini', 'size': 136, 'mtime': 1538450652.6097116, 'priority': 2}, {'path': 'F:/Files/Music/desktop.ini', 'size': 440, 'mtime': 1577863147.0110621, 'priority': 2}, {'path': 'F:/Files/photos/Old Photos/Trivia Pics/desktop.ini', 'size': 136, 'mtime': 1538450652.605711, 'priority': 2}, {'path': 'F:/Oculus Apps/desktop.ini', 'size': 127, 'mtime': 1579135968.026018, 'priority': 2}]\n"
     ]
    },
    {
     "data": {
      "text/plain": [
       "'             \\n        deleting = dictValue[0]\\n        saving = dictValue[1]\\n        print(deleting)\\n        print(saving)\\n        if dryRun:\\n            print(f\"dry run: would have deleted {deleting.name} as it\\'s older than {saving.name}\")\\n        else:\\n            print(f\"deleting {deleting[\\'path\\'].name} as it\\'s older than {saving[\\'path\\'].name}\")\\n            #dictValue[0][\\'path\\'].unlink()\\n'"
      ]
     },
     "execution_count": 42,
     "metadata": {},
     "output_type": "execute_result"
    }
   ],
   "source": [
    "dedupeDirs = [(cnt,Path(directory).as_posix()) for cnt,directory in enumerate(dedupeDirs)]\n",
    "for dupeList in dupeDict.values():\n",
    "    for file in dupeList:\n",
    "        for priority,directory in dedupeDirs:\n",
    "            #print(priority,directory)\n",
    "            if file['path'].startswith(directory):\n",
    "                file['priority'] = priority\n",
    "    print(dupeList)\n",
    "    dupeList = sorted(dupeList, key=lambda k: k['priority']) \n",
    "    break\n",
    "\"\"\"             \n",
    "        deleting = dictValue[0]\n",
    "        saving = dictValue[1]\n",
    "        print(deleting)\n",
    "        print(saving)\n",
    "        if dryRun:\n",
    "            print(f\"dry run: would have deleted {deleting.name} as it's older than {saving.name}\")\n",
    "        else:\n",
    "            print(f\"deleting {deleting['path'].name} as it's older than {saving['path'].name}\")\n",
    "            #dictValue[0]['path'].unlink()\n",
    "\"\"\""
   ]
  },
  {
   "cell_type": "markdown",
   "id": "dae1afc1-c159-407a-9df9-dd68a9787ad9",
   "metadata": {},
   "source": [
    "### Let's get deleting files\n",
    "Work out the priority of each file to conslidate everything on one disk first.\n",
    "\n",
    "Dry run is enabled unless you disable it."
   ]
  },
  {
   "cell_type": "markdown",
   "id": "1bd04f41-3251-475e-b016-0a814eaedfda",
   "metadata": {},
   "source": [
    "dryRun = True\n",
    "\n",
    "## TODO:\n",
    " - compare by file attributes, basically just size and name\n",
    "     -  then by hash if same name/size\n",
    " - if name/size disagree, put in a conflict csv to review later\n"
   ]
  },
  {
   "cell_type": "markdown",
   "id": "740e38b1-d315-45a5-96ff-d36bd1a0975b",
   "metadata": {},
   "source": [
    "\n",
    "Bold \t**bold text**\n",
    "*italicized text*\n",
    "\n",
    "Blockquote \t> blockquote\n",
    "Ordered List \t\n",
    "1. First item\n",
    "2. Second item\n",
    "3. Third item\n",
    "Unordered List \t\n",
    "- First item\n",
    "- Second item\n",
    "- Third item\n",
    "Code \t`code`\n",
    "Horizontal Rule \t---\n",
    "Link \t\n",
    "[title](https://www.example.com)\n",
    "Image \t\n",
    "![alt text](image.jpg)\n",
    "\n",
    "### Results \n",
    "| Stretch/Untouched | ProbDistribution | Accuracy |\n",
    "| :- | -: | :-: |\n",
    "| Stretched | Gaussian | .843\n",
    "\n",
    " ```\n",
    "{\n",
    "  \"firstName\": \"John\",\n",
    "  \"lastName\": \"Smith\",\n",
    "  \"age\": 25\n",
    "}\n",
    "``` \n",
    "footnote \tHere's a sentence with a footnote. [^1]\n",
    "\n",
    "[^1]: This is the footnote.\n",
    "Heading ID \n",
    "### My Great Heading {#custom-id}\n",
    "Definition List \t\n",
    "term\n",
    ": definition\n",
    "\n",
    "Task List \t\n",
    "- [x] Write the press release\n",
    "- [ ] Update the website\n",
    "\n"
   ]
  }
 ],
 "metadata": {
  "kernelspec": {
   "display_name": "Python 3",
   "language": "python",
   "name": "python3"
  },
  "language_info": {
   "codemirror_mode": {
    "name": "ipython",
    "version": 3
   },
   "file_extension": ".py",
   "mimetype": "text/x-python",
   "name": "python",
   "nbconvert_exporter": "python",
   "pygments_lexer": "ipython3",
   "version": "3.9.1"
  }
 },
 "nbformat": 4,
 "nbformat_minor": 5
}
